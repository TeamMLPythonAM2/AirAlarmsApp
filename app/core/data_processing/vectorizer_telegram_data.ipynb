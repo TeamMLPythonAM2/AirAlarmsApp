{
 "cells": [
  {
   "cell_type": "code",
   "id": "initial_id",
   "metadata": {
    "collapsed": true
   },
   "source": [
    "import pandas as pd\n",
    "from sklearn.feature_extraction.text import TfidfVectorizer\n",
    "from sklearn.decomposition import PCA\n",
    "import os\n",
    "import joblib"
   ],
   "outputs": [],
   "execution_count": null
  },
  {
   "metadata": {},
   "cell_type": "code",
   "source": "df = pd.read_parquet('lemmatized_telegram_data.parquet')",
   "id": "1bc9ca6f4716ed8d",
   "outputs": [],
   "execution_count": null
  },
  {
   "metadata": {},
   "cell_type": "code",
   "source": "df.head()",
   "id": "8f862060480bb888",
   "outputs": [],
   "execution_count": null
  },
  {
   "metadata": {},
   "cell_type": "code",
   "source": [
    "tfidf_vectorizer = TfidfVectorizer(ngram_range=(2,2), max_features=10000)\n",
    "pca = PCA(n_components=100)"
   ],
   "id": "64ab2f97b5d334c1",
   "outputs": [],
   "execution_count": null
  },
  {
   "metadata": {},
   "cell_type": "code",
   "source": "tfidf_matrix = tfidf_vectorizer.fit_transform(df[\"l_content\"])",
   "id": "4230bda0c56af6b5",
   "outputs": [],
   "execution_count": null
  },
  {
   "metadata": {},
   "cell_type": "code",
   "source": "tfidf_matrix_pca = pca.fit_transform(tfidf_matrix)",
   "id": "f6346522423b0421",
   "outputs": [],
   "execution_count": null
  },
  {
   "metadata": {},
   "cell_type": "code",
   "source": "tfidf_matrix_pca.shape",
   "id": "98c1a2f5032d1236",
   "outputs": [],
   "execution_count": null
  },
  {
   "metadata": {},
   "cell_type": "code",
   "source": "df[\"vector\"] = tfidf_matrix_pca.tolist()",
   "id": "bd9bd3c2354256",
   "outputs": [],
   "execution_count": null
  },
  {
   "metadata": {},
   "cell_type": "code",
   "source": "df.head()",
   "id": "f6d0de9544e584b",
   "outputs": [],
   "execution_count": null
  },
  {
   "metadata": {},
   "cell_type": "code",
   "source": "df_dropped = df.drop(columns=[\"l_content\", \"content\", \"lang\"])",
   "id": "478d0a9d9257716f",
   "outputs": [],
   "execution_count": null
  },
  {
   "metadata": {},
   "cell_type": "code",
   "source": "df.to_parquet(os.path.join(\"telegram_data\", 'vector_telegram_data.parquet'))",
   "id": "85f7a8fa710f4277",
   "outputs": [],
   "execution_count": null
  },
  {
   "metadata": {},
   "cell_type": "code",
   "source": "df_dropped.to_parquet(os.path.join(\"telegram_data\", 'vector_only_telegram_data.parquet'))",
   "id": "77c19aa8e604c98b",
   "outputs": [],
   "execution_count": null
  },
  {
   "metadata": {},
   "cell_type": "code",
   "source": "joblib.dump(tfidf_vectorizer, 'tfidf_telegram_vectorizer.pkl')",
   "id": "6af160500bc3437a",
   "outputs": [],
   "execution_count": null
  },
  {
   "metadata": {},
   "cell_type": "code",
   "source": "joblib.dump(pca, 'telegram_pca.pkl')",
   "id": "e8a08a458bb8f32d",
   "outputs": [],
   "execution_count": null
  }
 ],
 "metadata": {
  "kernelspec": {
   "display_name": "Python 3",
   "language": "python",
   "name": "python3"
  },
  "language_info": {
   "codemirror_mode": {
    "name": "ipython",
    "version": 2
   },
   "file_extension": ".py",
   "mimetype": "text/x-python",
   "name": "python",
   "nbconvert_exporter": "python",
   "pygments_lexer": "ipython2",
   "version": "2.7.6"
  }
 },
 "nbformat": 4,
 "nbformat_minor": 5
}
