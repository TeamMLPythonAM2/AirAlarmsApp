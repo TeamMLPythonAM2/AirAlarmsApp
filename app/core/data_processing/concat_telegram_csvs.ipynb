{
 "cells": [
  {
   "cell_type": "code",
   "id": "initial_id",
   "metadata": {
    "collapsed": true
   },
   "source": [
    "import pandas as pd\n",
    "import os\n",
    "from app.config.configuration import Config"
   ],
   "outputs": [],
   "execution_count": null
  },
  {
   "metadata": {},
   "cell_type": "code",
   "source": [
    "paths = []\n",
    "\n",
    "for file in os.listdir(Config.TELEGRAM_MESSAGES_PATH):\n",
    "    if file.endswith(\".csv\"):\n",
    "        paths.append(os.path.join(Config.TELEGRAM_MESSAGES_PATH, file))"
   ],
   "id": "630f4f4810c29036",
   "outputs": [],
   "execution_count": null
  },
  {
   "metadata": {},
   "cell_type": "code",
   "source": [
    "df = pd.read_csv(paths[0])\n",
    "\n",
    "for path in paths[1:]:\n",
    "    df = pd.concat([df, pd.read_csv(path, encoding='utf-8')], ignore_index=True)"
   ],
   "id": "7b0d57988a250884",
   "outputs": [],
   "execution_count": null
  },
  {
   "metadata": {},
   "cell_type": "code",
   "source": "df.shape",
   "id": "43b23c8c10c62f0",
   "outputs": [],
   "execution_count": null
  },
  {
   "metadata": {},
   "cell_type": "code",
   "source": "df.to_csv(os.path.join(Config.FILES_PATH, 'full_telegram_data.csv'), index=False, encoding='utf-8')",
   "id": "5483f957a59e2f74",
   "outputs": [],
   "execution_count": null
  }
 ],
 "metadata": {
  "kernelspec": {
   "display_name": "Python 3",
   "language": "python",
   "name": "python3"
  },
  "language_info": {
   "codemirror_mode": {
    "name": "ipython",
    "version": 2
   },
   "file_extension": ".py",
   "mimetype": "text/x-python",
   "name": "python",
   "nbconvert_exporter": "python",
   "pygments_lexer": "ipython2",
   "version": "2.7.6"
  }
 },
 "nbformat": 4,
 "nbformat_minor": 5
}
